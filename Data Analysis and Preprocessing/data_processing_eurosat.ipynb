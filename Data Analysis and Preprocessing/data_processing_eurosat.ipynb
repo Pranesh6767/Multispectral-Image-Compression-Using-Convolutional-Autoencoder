{
  "nbformat": 4,
  "nbformat_minor": 0,
  "metadata": {
    "colab": {
      "name": "Untitled25.ipynb",
      "provenance": [],
      "collapsed_sections": []
    },
    "kernelspec": {
      "name": "python3",
      "display_name": "Python 3"
    },
    "language_info": {
      "name": "python"
    }
  },
  "cells": [
    {
      "cell_type": "code",
      "execution_count": null,
      "metadata": {
        "id": "O9mV7uscCGiF"
      },
      "outputs": [],
      "source": [
        "import pandas as pd\n",
        "import numpy as np\n",
        "import rasterio\n",
        "import os"
      ]
    },
    {
      "cell_type": "code",
      "source": [
        "outputdir = ''"
      ],
      "metadata": {
        "id": "9lbzKT3NDQy7"
      },
      "execution_count": null,
      "outputs": []
    },
    {
      "cell_type": "code",
      "source": [
        "def load_and_save_image(filepath):\n",
        "    try:\n",
        "        image_sample = rasterio.open(str(filepath), \"r\")\n",
        "        bands = [i for i in range(1, image_sample.count+1)]\n",
        "        image_sample = image_sample.read(bands)\n",
        "        image_sample = image_sample.astype('float32')\n",
        "        image_sample_t = image_sample.transpose((1, 2, 0))\n",
        "        outputfilename = filepath.split(\"/\")[-1].split(\".\")[0] + '.npy'\n",
        "        outputfilepath = os.path.join(outputdir, outputfilename)\n",
        "        np.save(outputfilepath,image_sample_t)\n",
        "        # permute\n",
        "        # save\n",
        "        return True\n",
        "    except:\n",
        "        return False"
      ],
      "metadata": {
        "id": "I8XvjmCeCgGj"
      },
      "execution_count": null,
      "outputs": []
    },
    {
      "cell_type": "code",
      "source": [
        "list_of_files = pd.read_csv('selected_images_eurosat.csv')['imagename'].tolist()"
      ],
      "metadata": {
        "id": "86bmp0pFCg8q"
      },
      "execution_count": null,
      "outputs": []
    },
    {
      "cell_type": "code",
      "source": [
        "if len(list_of_files) !=9000:\n",
        "    print(\"Stop Processing\")"
      ],
      "metadata": {
        "id": "24DcIehADnWg"
      },
      "execution_count": null,
      "outputs": []
    },
    {
      "cell_type": "code",
      "source": [
        "for filename in list_of_files:\n",
        "    flag = load_and_save_image(filename)\n",
        "    if flag==False:\n",
        "        print(\"Error occurred while processing This file:\",filename)\n",
        "    "
      ],
      "metadata": {
        "id": "5K0r9UXkDyqk"
      },
      "execution_count": null,
      "outputs": []
    }
  ]
}